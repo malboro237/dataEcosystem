{
 "cells": [
  {
   "cell_type": "markdown",
   "id": "cef28541-d00b-4291-8f55-40679de3dea1",
   "metadata": {},
   "source": [
    "# Data Science Tools and Ecosystem"
   ]
  },
  {
   "cell_type": "markdown",
   "id": "14943875-455a-4584-a031-a460108a65ee",
   "metadata": {},
   "source": [
    "In this notebook, Data Science Tools and Ecosystem are summarized."
   ]
  },
  {
   "cell_type": "markdown",
   "id": "9452ce0a-9926-4686-8846-858a9815a376",
   "metadata": {},
   "source": [
    "\n",
    "Objectives :\n",
    "\n",
    "- Create a Jupyter Notebook\n",
    "- Insert code and markdown cells\n",
    "- Share your notebook through GitHub\n",
    "\n",
    "## Author \n",
    "Mouliom Abidine, Etudiant en data science.\n"
   ]
  },
  {
   "cell_type": "markdown",
   "id": "fb651bac-5166-40af-88d7-d054b6f5ad0e",
   "metadata": {
    "tags": []
   },
   "source": [
    "\n",
    "Some of the popular languages that Data Scientists use are:\n",
    "    \n",
    "1. Python\n",
    "2. R\n",
    "3. Java\n",
    "    "
   ]
  },
  {
   "cell_type": "markdown",
   "id": "fc964765-e450-4aaf-b203-fdf80de72b3b",
   "metadata": {},
   "source": [
    "Some of the commonly used libraries used by Data Scientists include:\n",
    "    \n",
    "    1. Pandas\n",
    "    2. NumPy\n",
    "    3. TensorFlow"
   ]
  },
  {
   "cell_type": "markdown",
   "id": "0cf20c42-da90-406f-8844-d6b3b99be34a",
   "metadata": {
    "tags": []
   },
   "source": [
    "| Data Science Tools |\n",
    "|--------------------|\n",
    "| Jupyter notebook   |\n",
    "| Ananconda          |\n",
    "| Rstudio            |"
   ]
  },
  {
   "cell_type": "markdown",
   "id": "42c000ac-212a-438c-a6ed-f8dbf459fb1d",
   "metadata": {},
   "source": [
    "### Below are a few examples of evaluating arithmetic expressions in Python"
   ]
  },
  {
   "cell_type": "code",
   "execution_count": 12,
   "id": "f7c25303-0c90-4418-9cf9-b19d901663ef",
   "metadata": {
    "tags": []
   },
   "outputs": [
    {
     "data": {
      "text/plain": [
       "17"
      ]
     },
     "execution_count": 12,
     "metadata": {},
     "output_type": "execute_result"
    }
   ],
   "source": [
    "# This a simple arithmetic expression to mutiply then add integers\n",
    "(3*4)+5\n",
    "\n"
   ]
  },
  {
   "cell_type": "code",
   "execution_count": 13,
   "id": "37592e21-2086-4905-8269-0cc0d32f4f1e",
   "metadata": {
    "tags": []
   },
   "outputs": [
    {
     "data": {
      "text/plain": [
       "3.3333333333333335"
      ]
     },
     "execution_count": 13,
     "metadata": {},
     "output_type": "execute_result"
    }
   ],
   "source": [
    "# This will convert 200 minutes to hours by diving by 60\n",
    "200/60"
   ]
  },
  {
   "cell_type": "code",
   "execution_count": null,
   "id": "6ef68b25-ac88-4477-8b52-9da9efb17251",
   "metadata": {},
   "outputs": [],
   "source": []
  }
 ],
 "metadata": {
  "kernelspec": {
   "display_name": "Python 3 (ipykernel)",
   "language": "python",
   "name": "python3"
  },
  "language_info": {
   "codemirror_mode": {
    "name": "ipython",
    "version": 3
   },
   "file_extension": ".py",
   "mimetype": "text/x-python",
   "name": "python",
   "nbconvert_exporter": "python",
   "pygments_lexer": "ipython3",
   "version": "3.11.5"
  }
 },
 "nbformat": 4,
 "nbformat_minor": 5
}
